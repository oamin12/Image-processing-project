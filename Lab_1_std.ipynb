{
 "cells": [
  {
   "cell_type": "code",
   "execution_count": 1,
   "metadata": {},
   "outputs": [],
   "source": [
    "# Show the figures / plots inside the notebook\n",
    "import numpy as np\n",
    "import cv2\n",
    "\n"
   ]
  },
  {
   "cell_type": "code",
   "execution_count": 82,
   "metadata": {},
   "outputs": [],
   "source": [
    "face_cascade = cv2.CascadeClassifier(cv2.data.haarcascades + 'haarcascade_frontalface_default.xml')\n",
    "mouth_cascade = cv2.CascadeClassifier('./haar/haarcascade_smile.xml')\n",
    "\n",
    "if mouth_cascade.empty():\n",
    "  raise IOError('Unable to load the mouth cascade classifier xml file')\n",
    "\n",
    "# Read the input image\n",
    "image_path = './images/img1.jpg'\n",
    "img = cv2.imread(image_path)\n",
    "# Convert the image to grayscale\n",
    "gray = cv2.cvtColor(img, cv2.COLOR_BGR2GRAY)\n",
    "\n",
    "# Perform face detection\n",
    "faces = face_cascade.detectMultiScale(gray, scaleFactor=1.3, minNeighbors=5)\n",
    "\n",
    "# Draw rectangles around the detected faces\n",
    "for (x, y, w, h) in faces:\n",
    "    cv2.rectangle(img, (x, y), (x+w, y+h), (0, 255, 0), 2)\n",
    "\n",
    "# Display the result\n",
    "cv2.imshow('Face Detection', img)\n",
    "cv2.waitKey(0)\n",
    "cv2.destroyAllWindows()\n",
    "\n"
   ]
  },
  {
   "cell_type": "code",
   "execution_count": 80,
   "metadata": {},
   "outputs": [],
   "source": [
    "#segment the face\n",
    "roi_color = []\n",
    "roi_gray = []\n",
    "img_temp = img.copy()\n",
    "for (x, y, w, h) in faces:\n",
    "    roi_color = img_temp[y:y+h, x:x+w]\n",
    "    roi_gray = gray[y:y+h, x:x+w]\n",
    "    mouths = mouth_cascade.detectMultiScale(roi_color)\n",
    "    for (mx, my, mw, mh) in mouths:\n",
    "        cv2.rectangle(roi_color, (mx, my), (mx+mw, my+mh), (0, 255, 0), 2)\n",
    "    cv2.imshow('mouth Segmentation', roi_color)\n",
    "    cv2.waitKey(0)\n",
    "    cv2.destroyAllWindows()"
   ]
  },
  {
   "cell_type": "code",
   "execution_count": 81,
   "metadata": {},
   "outputs": [],
   "source": [
    "gray = cv2.cvtColor(roi_color, cv2.COLOR_BGR2GRAY)\n",
    "gray[gray > 225] = 255\n",
    "gray[gray <= 225] = 0\n",
    "#gray_resized = cv2.resize(gray, (500, 300), interpolation=cv2.INTER_AREA)\n",
    "cv2.imshow('Face Segmentation', gray)\n",
    "cv2.waitKey(0)\n",
    "cv2.destroyAllWindows()\n"
   ]
  },
  {
   "cell_type": "code",
   "execution_count": null,
   "metadata": {},
   "outputs": [],
   "source": []
  }
 ],
 "metadata": {
  "kernelspec": {
   "display_name": "Python 3",
   "language": "python",
   "name": "python3"
  },
  "language_info": {
   "codemirror_mode": {
    "name": "ipython",
    "version": 3
   },
   "file_extension": ".py",
   "mimetype": "text/x-python",
   "name": "python",
   "nbconvert_exporter": "python",
   "pygments_lexer": "ipython3",
   "version": "3.9.13"
  }
 },
 "nbformat": 4,
 "nbformat_minor": 2
}
